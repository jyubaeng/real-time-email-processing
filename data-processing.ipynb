{
 "cells": [
  {
   "cell_type": "code",
   "execution_count": 23,
   "metadata": {},
   "outputs": [],
   "source": [
    "from pyspark.sql import SparkSession\n",
    "from pyspark.sql.functions import col, udf, regexp_replace, lower, split, array_join, date_format\n",
    "from pyspark.sql.types import StringType\n",
    "from pyspark.ml.feature import Tokenizer, StopWordsRemover, HashingTF, IDF, StringIndexer, VectorAssembler\n",
    "from pyspark.ml import Pipeline\n",
    "import re\n",
    "import logging"
   ]
  },
  {
   "cell_type": "code",
   "execution_count": 24,
   "metadata": {},
   "outputs": [],
   "source": [
    "# Initialize logging\n",
    "logging.basicConfig(level=logging.INFO)\n",
    "logger = logging.getLogger(__name__)"
   ]
  },
  {
   "cell_type": "code",
   "execution_count": 51,
   "metadata": {},
   "outputs": [],
   "source": [
    "# Path to your PostgreSQL JDBC driver\n",
    "jdbc_driver_path = r\"C:\\Users\\jyuba\\postgresql-42.7.2.jar\""
   ]
  },
  {
   "cell_type": "code",
   "execution_count": 52,
   "metadata": {},
   "outputs": [
    {
     "name": "stderr",
     "output_type": "stream",
     "text": [
      "INFO:__main__:Spark Session created successfully.\n"
     ]
    }
   ],
   "source": [
    "# Initialize Spark session\n",
    "try:\n",
    "    spark = SparkSession.builder \\\n",
    "        .appName(\"Postgres to Spark DataFrame\") \\\n",
    "        .config(\"spark.jars\", jdbc_driver_path) \\\n",
    "        .getOrCreate()\n",
    "    logger.info(\"Spark Session created successfully.\")\n",
    "except Exception as e:\n",
    "    logger.error(f\"Error creating Spark Session: {e}\")\n",
    "    raise"
   ]
  },
  {
   "cell_type": "code",
   "execution_count": 53,
   "metadata": {},
   "outputs": [],
   "source": [
    "# PostgreSQL connection properties\n",
    "jdbc_url = \"jdbc:postgresql://localhost:5432/ainbox\"  # Update with your actual JDBC URL\n",
    "table = \"emails\"  # Update with your actual table name\n",
    "properties = {\n",
    "    \"user\": \"postgres\",\n",
    "    \"password\": \"XXXXXXXXXX\",\n",
    "    \"driver\": \"org.postgresql.Driver\"\n",
    "}"
   ]
  },
  {
   "cell_type": "code",
   "execution_count": 54,
   "metadata": {},
   "outputs": [],
   "source": [
    "# Read data from PostgreSQL table into a Spark DataFrame\n",
    "df = spark.read.jdbc(url=jdbc_url, table=\"emails\", properties=properties)"
   ]
  },
  {
   "cell_type": "code",
   "execution_count": 55,
   "metadata": {},
   "outputs": [
    {
     "name": "stdout",
     "output_type": "stream",
     "text": [
      "+----+--------+--------------------+--------------------+--------------------+---+---+----------+--------------------+--------------------+\n",
      "|  id|email_id|             subject|              sender|          recipients| cc|bcc|      date|          body_plain|               links|\n",
      "+----+--------+--------------------+--------------------+--------------------+---+---+----------+--------------------+--------------------+\n",
      "|NULL|       1|Take the next ste...|Google Community ...|[jyubaeng@gmail.com]| []| []|2023-01-12|Let's get started...|[https://notifica...|\n",
      "|NULL|       2|Jubyung, take the...|The Google Accoun...|[jyubaeng@gmail.com]| []| []|2023-01-17|Hi Jubyung,\\r\\n\\r...|[https://notifica...|\n",
      "|NULL|       3|      Security alert|Google <no-reply@...|[jyubaeng@gmail.com]| []| []|2023-01-17|[image: Google]\\r...|[https://accounts...|\n",
      "|NULL|       4|Recovery email ve...|Google <no-reply@...|[jyubaeng@gmail.com]| []| []|2023-01-17|[image: Google]\\r...|[https://accounts...|\n",
      "|NULL|       5|      Security alert|Google <no-reply@...|[jyubaeng@gmail.com]| []| []|2023-01-17|[image: Google]\\r...|[https://accounts...|\n",
      "|NULL|       6|Access to the pyt...|GitLab <gitlab@mg...|[jyubaeng@gmail.com]| []| []|2023-01-26|\\r\\n\\r\\nYou have ...|[https://gitlab.c...|\n",
      "|NULL|       7|Team up in GitLab...|GitLab <team@gitl...|[jyubaeng@gmail.com]| []| []|2023-01-28|\\r\\n\\r\\nTurn cowo...|[http://email.mg....|\n",
      "|NULL|      18|gitlab.com sign-i...|GitLab <gitlab@mg...|[jyubaeng@gmail.com]| []| []|2023-02-19|\\r\\n\\r\\nHi James ...|[https://gitlab.c...|\n",
      "|NULL|    1378|Ends today: $10 o...|Etsy <email@email...|[jyubaeng@gmail.com]| []| []|2023-10-11| Hurry!\\r\\n\\r\\n  ...|[https://ablink.e...|\n",
      "|NULL|    1379|Make your website...|\"Bluehost\" <no-re...|[<JYUBAENG@GMAIL....| []| []|2023-10-11|Bluehost\\r\\n\\r\\n ...|[https://view.e.h...|\n",
      "|NULL|    1380|Webinar: How to I...|\"Bluehost\" <no-re...|[<JYUBAENG@GMAIL....| []| []|2023-10-11|BluehostRegister ...|[https://view.e.h...|\n",
      "|NULL|       8|    Be a DevOps hero|GitLab <team@gitl...|[jyubaeng@gmail.com]| []| []|2023-01-29|\\r\\n\\r\\nExpand yo...|[http://email.mg....|\n",
      "|NULL|       9|Create a custom C...|GitLab <team@gitl...|[jyubaeng@gmail.com]| []| []|2023-01-30|\\r\\n\\r\\nSpin up a...|[http://email.mg....|\n",
      "|NULL|      10|Feel the need for...|GitLab <team@gitl...|[jyubaeng@gmail.com]| []| []|2023-01-31|Use GitLab CI/CD\\...|[http://email.mg....|\n",
      "|NULL|      11|Reset password in...|GitLab <gitlab@mg...|[jyubaeng@gmail.com]| []| []|2023-02-04|Hello, James Ha!\\...|[https://gitlab.c...|\n",
      "|NULL|      12|    Password Changed|GitLab <gitlab@mg...|[jyubaeng@gmail.com]| []| []|2023-02-04|Hello, James Ha!\\...|[https://gitlab.com]|\n",
      "|NULL|      13|3 ways to dive in...|GitLab <team@gitl...|[jyubaeng@gmail.com]| []| []|2023-02-04|Test, create, dep...|[http://email.mg....|\n",
      "|NULL|      14|Explore the power...|GitLab <team@gitl...|[jyubaeng@gmail.com]| []| []|2023-02-09|Are your runners ...|[http://email.mg....|\n",
      "|NULL|      15|opentutorials.org...|opentutorialsorg@...|[jyubaeng@gmail.com]| []| []|2023-02-11|\\r\\n\\t\\t<html>\\r\\...|[https://opentuto...|\n",
      "|NULL|      16|      Security alert|Google <no-reply@...|[jyubaeng@gmail.com]| []| []|2023-02-11|[image: Google]\\r...|[https://accounts...|\n",
      "+----+--------+--------------------+--------------------+--------------------+---+---+----------+--------------------+--------------------+\n",
      "only showing top 20 rows\n",
      "\n"
     ]
    }
   ],
   "source": [
    "df.show()"
   ]
  },
  {
   "cell_type": "code",
   "execution_count": 56,
   "metadata": {},
   "outputs": [],
   "source": [
    "# Handling missing values\n",
    "df = df.fillna({'subject': '', 'body_plain': ''})"
   ]
  },
  {
   "cell_type": "code",
   "execution_count": 57,
   "metadata": {},
   "outputs": [
    {
     "name": "stdout",
     "output_type": "stream",
     "text": [
      "+---+--------+-------+------+----------+---+---+----+----------+-----+-------------+--------------+-------------+---------+------------+-------------+----------------+-------------------+--------------------+----+-----------+----------+-----------+-----------+\n",
      "| id|email_id|subject|sender|recipients| cc|bcc|date|body_plain|links|subject_clean|subject_tokens|sender_domain|recipient|cc_recipient|bcc_recipient|recipient_domain|cc_recipient_domain|bcc_recipient_domain|hour|day_of_week|body_clean|body_tokens|link_domain|\n",
      "+---+--------+-------+------+----------+---+---+----+----------+-----+-------------+--------------+-------------+---------+------------+-------------+----------------+-------------------+--------------------+----+-----------+----------+-----------+-----------+\n",
      "+---+--------+-------+------+----------+---+---+----+----------+-----+-------------+--------------+-------------+---------+------------+-------------+----------------+-------------------+--------------------+----+-----------+----------+-----------+-----------+\n",
      "\n"
     ]
    }
   ],
   "source": [
    "from pyspark.sql import SparkSession\n",
    "from pyspark.sql.functions import col, explode, regexp_replace, trim, to_date, hour, dayofweek, expr\n",
    "from pyspark.ml.feature import Tokenizer\n",
    "\n",
    "# Clean 'subject' column\n",
    "emails_df = df.withColumn(\"subject_clean\",\n",
    "                        trim(\n",
    "                            regexp_replace(\n",
    "                                col(\"subject\"),\n",
    "                                r\"\\W\", \" \"\n",
    "                            )\n",
    "                        )\n",
    "                    )\n",
    "\n",
    "# Tokenize 'subject' column\n",
    "tokenizer = Tokenizer(inputCol=\"subject_clean\", outputCol=\"subject_tokens\")\n",
    "emails_df = tokenizer.transform(emails_df)\n",
    "\n",
    "# Extract domain from 'sender' column\n",
    "emails_df = emails_df.withColumn(\"sender_domain\",\n",
    "                                 trim(\n",
    "                                     regexp_replace(\n",
    "                                         col(\"sender\"),\n",
    "                                         r\".*@\",\n",
    "                                         \"\"\n",
    "                                     )\n",
    "                                 )\n",
    "                                )\n",
    "\n",
    "# Explode 'recipients', 'cc', 'bcc' arrays\n",
    "emails_df = emails_df.withColumn(\"recipient\", explode(\"recipients\"))\n",
    "emails_df = emails_df.withColumn(\"cc_recipient\", explode(\"cc\"))\n",
    "emails_df = emails_df.withColumn(\"bcc_recipient\", explode(\"bcc\"))\n",
    "\n",
    "# Extract domain from 'recipient', 'cc_recipient', 'bcc_recipient' columns\n",
    "emails_df = emails_df.withColumn(\"recipient_domain\",\n",
    "                                 trim(\n",
    "                                     regexp_replace(\n",
    "                                         col(\"recipient\"),\n",
    "                                         r\".*@\",\n",
    "                                         \"\"\n",
    "                                     )\n",
    "                                 )\n",
    "                                )\n",
    "emails_df = emails_df.withColumn(\"cc_recipient_domain\",\n",
    "                                 trim(\n",
    "                                     regexp_replace(\n",
    "                                         col(\"cc_recipient\"),\n",
    "                                         r\".*@\",\n",
    "                                         \"\"\n",
    "                                     )\n",
    "                                 )\n",
    "                                )\n",
    "emails_df = emails_df.withColumn(\"bcc_recipient_domain\",\n",
    "                                 trim(\n",
    "                                     regexp_replace(\n",
    "                                         col(\"bcc_recipient\"),\n",
    "                                         r\".*@\",\n",
    "                                         \"\"\n",
    "                                     )\n",
    "                                 )\n",
    "                                )\n",
    "\n",
    "# Convert 'date' to date type and extract additional features\n",
    "emails_df = emails_df.withColumn(\"date\", to_date(col(\"date\")))\n",
    "emails_df = emails_df.withColumn(\"hour\", hour(col(\"date\")))\n",
    "emails_df = emails_df.withColumn(\"day_of_week\", dayofweek(col(\"date\")))\n",
    "\n",
    "# Clean 'body_plain' column\n",
    "emails_df = emails_df.withColumn(\"body_clean\",\n",
    "                                 trim(\n",
    "                                     regexp_replace(\n",
    "                                         col(\"body_plain\"),\n",
    "                                         r\"<[^>]+>\", \"\"  # Remove HTML tags\n",
    "                                     )\n",
    "                                 )\n",
    "                                )\n",
    "\n",
    "# Tokenize 'body_plain' column\n",
    "tokenizer = Tokenizer(inputCol=\"body_clean\", outputCol=\"body_tokens\")\n",
    "emails_df = tokenizer.transform(emails_df)\n",
    "\n",
    "# Extract domain from 'links' array\n",
    "emails_df = emails_df.withColumn(\"link_domain\",\n",
    "                                 explode(\n",
    "                                     expr(\"filter(links, x -> regexp_extract(x, 'https?://([a-zA-Z0-9.-]+)', 1) is not null)\")\n",
    "                                 )\n",
    "                                )\n",
    "\n",
    "# Stop the Spark session\n",
    "spark.stop()\n"
   ]
  },
  {
   "cell_type": "code",
   "execution_count": 58,
   "metadata": {},
   "outputs": [
    {
     "ename": "Py4JJavaError",
     "evalue": "An error occurred while calling o527.jdbc.\n: java.lang.IllegalStateException: SparkContext has been shutdown\r\n\tat org.apache.spark.SparkContext.runJob(SparkContext.scala:2390)\r\n\tat org.apache.spark.SparkContext.runJob(SparkContext.scala:2419)\r\n\tat org.apache.spark.SparkContext.runJob(SparkContext.scala:2438)\r\n\tat org.apache.spark.SparkContext.runJob(SparkContext.scala:2463)\r\n\tat org.apache.spark.rdd.RDD.$anonfun$foreachPartition$1(RDD.scala:1039)\r\n\tat org.apache.spark.rdd.RDDOperationScope$.withScope(RDDOperationScope.scala:151)\r\n\tat org.apache.spark.rdd.RDDOperationScope$.withScope(RDDOperationScope.scala:112)\r\n\tat org.apache.spark.rdd.RDD.withScope(RDD.scala:410)\r\n\tat org.apache.spark.rdd.RDD.foreachPartition(RDD.scala:1037)\r\n\tat org.apache.spark.sql.Dataset.$anonfun$foreachPartition$1(Dataset.scala:3514)\r\n\tat scala.runtime.java8.JFunction0$mcV$sp.apply(JFunction0$mcV$sp.java:23)\r\n\tat org.apache.spark.sql.Dataset.$anonfun$withNewRDDExecutionId$1(Dataset.scala:4309)\r\n\tat org.apache.spark.sql.execution.SQLExecution$.$anonfun$withNewExecutionId$6(SQLExecution.scala:125)\r\n\tat org.apache.spark.sql.execution.SQLExecution$.withSQLConfPropagated(SQLExecution.scala:201)\r\n\tat org.apache.spark.sql.execution.SQLExecution$.$anonfun$withNewExecutionId$1(SQLExecution.scala:108)\r\n\tat org.apache.spark.sql.SparkSession.withActive(SparkSession.scala:900)\r\n\tat org.apache.spark.sql.execution.SQLExecution$.withNewExecutionId(SQLExecution.scala:66)\r\n\tat org.apache.spark.sql.Dataset.withNewRDDExecutionId(Dataset.scala:4307)\r\n\tat org.apache.spark.sql.Dataset.foreachPartition(Dataset.scala:3514)\r\n\tat org.apache.spark.sql.execution.datasources.jdbc.JdbcUtils$.saveTable(JdbcUtils.scala:901)\r\n\tat org.apache.spark.sql.execution.datasources.jdbc.JdbcRelationProvider.createRelation(JdbcRelationProvider.scala:65)\r\n\tat org.apache.spark.sql.execution.datasources.SaveIntoDataSourceCommand.run(SaveIntoDataSourceCommand.scala:48)\r\n\tat org.apache.spark.sql.execution.command.ExecutedCommandExec.sideEffectResult$lzycompute(commands.scala:75)\r\n\tat org.apache.spark.sql.execution.command.ExecutedCommandExec.sideEffectResult(commands.scala:73)\r\n\tat org.apache.spark.sql.execution.command.ExecutedCommandExec.executeCollect(commands.scala:84)\r\n\tat org.apache.spark.sql.execution.QueryExecution$$anonfun$eagerlyExecuteCommands$1.$anonfun$applyOrElse$1(QueryExecution.scala:107)\r\n\tat org.apache.spark.sql.execution.SQLExecution$.$anonfun$withNewExecutionId$6(SQLExecution.scala:125)\r\n\tat org.apache.spark.sql.execution.SQLExecution$.withSQLConfPropagated(SQLExecution.scala:201)\r\n\tat org.apache.spark.sql.execution.SQLExecution$.$anonfun$withNewExecutionId$1(SQLExecution.scala:108)\r\n\tat org.apache.spark.sql.SparkSession.withActive(SparkSession.scala:900)\r\n\tat org.apache.spark.sql.execution.SQLExecution$.withNewExecutionId(SQLExecution.scala:66)\r\n\tat org.apache.spark.sql.execution.QueryExecution$$anonfun$eagerlyExecuteCommands$1.applyOrElse(QueryExecution.scala:107)\r\n\tat org.apache.spark.sql.execution.QueryExecution$$anonfun$eagerlyExecuteCommands$1.applyOrElse(QueryExecution.scala:98)\r\n\tat org.apache.spark.sql.catalyst.trees.TreeNode.$anonfun$transformDownWithPruning$1(TreeNode.scala:461)\r\n\tat org.apache.spark.sql.catalyst.trees.CurrentOrigin$.withOrigin(origin.scala:76)\r\n\tat org.apache.spark.sql.catalyst.trees.TreeNode.transformDownWithPruning(TreeNode.scala:461)\r\n\tat org.apache.spark.sql.catalyst.plans.logical.LogicalPlan.org$apache$spark$sql$catalyst$plans$logical$AnalysisHelper$$super$transformDownWithPruning(LogicalPlan.scala:32)\r\n\tat org.apache.spark.sql.catalyst.plans.logical.AnalysisHelper.transformDownWithPruning(AnalysisHelper.scala:267)\r\n\tat org.apache.spark.sql.catalyst.plans.logical.AnalysisHelper.transformDownWithPruning$(AnalysisHelper.scala:263)\r\n\tat org.apache.spark.sql.catalyst.plans.logical.LogicalPlan.transformDownWithPruning(LogicalPlan.scala:32)\r\n\tat org.apache.spark.sql.catalyst.plans.logical.LogicalPlan.transformDownWithPruning(LogicalPlan.scala:32)\r\n\tat org.apache.spark.sql.catalyst.trees.TreeNode.transformDown(TreeNode.scala:437)\r\n\tat org.apache.spark.sql.execution.QueryExecution.eagerlyExecuteCommands(QueryExecution.scala:98)\r\n\tat org.apache.spark.sql.execution.QueryExecution.commandExecuted$lzycompute(QueryExecution.scala:85)\r\n\tat org.apache.spark.sql.execution.QueryExecution.commandExecuted(QueryExecution.scala:83)\r\n\tat org.apache.spark.sql.execution.QueryExecution.assertCommandExecuted(QueryExecution.scala:142)\r\n\tat org.apache.spark.sql.DataFrameWriter.runCommand(DataFrameWriter.scala:859)\r\n\tat org.apache.spark.sql.DataFrameWriter.saveToV1Source(DataFrameWriter.scala:388)\r\n\tat org.apache.spark.sql.DataFrameWriter.saveInternal(DataFrameWriter.scala:361)\r\n\tat org.apache.spark.sql.DataFrameWriter.save(DataFrameWriter.scala:248)\r\n\tat org.apache.spark.sql.DataFrameWriter.jdbc(DataFrameWriter.scala:756)\r\n\tat java.base/jdk.internal.reflect.DirectMethodHandleAccessor.invoke(DirectMethodHandleAccessor.java:103)\r\n\tat java.base/java.lang.reflect.Method.invoke(Method.java:580)\r\n\tat py4j.reflection.MethodInvoker.invoke(MethodInvoker.java:244)\r\n\tat py4j.reflection.ReflectionEngine.invoke(ReflectionEngine.java:374)\r\n\tat py4j.Gateway.invoke(Gateway.java:282)\r\n\tat py4j.commands.AbstractCommand.invokeMethod(AbstractCommand.java:132)\r\n\tat py4j.commands.CallCommand.execute(CallCommand.java:79)\r\n\tat py4j.ClientServerConnection.waitForCommands(ClientServerConnection.java:182)\r\n\tat py4j.ClientServerConnection.run(ClientServerConnection.java:106)\r\n\tat java.base/java.lang.Thread.run(Thread.java:1570)\r\n",
     "output_type": "error",
     "traceback": [
      "\u001b[1;31m---------------------------------------------------------------------------\u001b[0m",
      "\u001b[1;31mPy4JJavaError\u001b[0m                             Traceback (most recent call last)",
      "Cell \u001b[1;32mIn[58], line 2\u001b[0m\n\u001b[0;32m      1\u001b[0m \u001b[38;5;66;03m# Write DataFrame to PostgreSQL table\u001b[39;00m\n\u001b[1;32m----> 2\u001b[0m emails_df\u001b[38;5;241m.\u001b[39mwrite\u001b[38;5;241m.\u001b[39mjdbc(url\u001b[38;5;241m=\u001b[39mjdbc_url, table\u001b[38;5;241m=\u001b[39m\u001b[38;5;124m\"\u001b[39m\u001b[38;5;124memails_cleaned\u001b[39m\u001b[38;5;124m\"\u001b[39m, mode\u001b[38;5;241m=\u001b[39m\u001b[38;5;124m\"\u001b[39m\u001b[38;5;124moverwrite\u001b[39m\u001b[38;5;124m\"\u001b[39m, properties\u001b[38;5;241m=\u001b[39mproperties)\n",
      "File \u001b[1;32mc:\\Users\\jyuba\\anaconda3\\Lib\\site-packages\\pyspark\\sql\\readwriter.py:1984\u001b[0m, in \u001b[0;36mDataFrameWriter.jdbc\u001b[1;34m(self, url, table, mode, properties)\u001b[0m\n\u001b[0;32m   1982\u001b[0m \u001b[38;5;28;01mfor\u001b[39;00m k \u001b[38;5;129;01min\u001b[39;00m properties:\n\u001b[0;32m   1983\u001b[0m     jprop\u001b[38;5;241m.\u001b[39msetProperty(k, properties[k])\n\u001b[1;32m-> 1984\u001b[0m \u001b[38;5;28mself\u001b[39m\u001b[38;5;241m.\u001b[39mmode(mode)\u001b[38;5;241m.\u001b[39m_jwrite\u001b[38;5;241m.\u001b[39mjdbc(url, table, jprop)\n",
      "File \u001b[1;32mc:\\Users\\jyuba\\anaconda3\\Lib\\site-packages\\py4j\\java_gateway.py:1322\u001b[0m, in \u001b[0;36mJavaMember.__call__\u001b[1;34m(self, *args)\u001b[0m\n\u001b[0;32m   1316\u001b[0m command \u001b[38;5;241m=\u001b[39m proto\u001b[38;5;241m.\u001b[39mCALL_COMMAND_NAME \u001b[38;5;241m+\u001b[39m\\\n\u001b[0;32m   1317\u001b[0m     \u001b[38;5;28mself\u001b[39m\u001b[38;5;241m.\u001b[39mcommand_header \u001b[38;5;241m+\u001b[39m\\\n\u001b[0;32m   1318\u001b[0m     args_command \u001b[38;5;241m+\u001b[39m\\\n\u001b[0;32m   1319\u001b[0m     proto\u001b[38;5;241m.\u001b[39mEND_COMMAND_PART\n\u001b[0;32m   1321\u001b[0m answer \u001b[38;5;241m=\u001b[39m \u001b[38;5;28mself\u001b[39m\u001b[38;5;241m.\u001b[39mgateway_client\u001b[38;5;241m.\u001b[39msend_command(command)\n\u001b[1;32m-> 1322\u001b[0m return_value \u001b[38;5;241m=\u001b[39m get_return_value(\n\u001b[0;32m   1323\u001b[0m     answer, \u001b[38;5;28mself\u001b[39m\u001b[38;5;241m.\u001b[39mgateway_client, \u001b[38;5;28mself\u001b[39m\u001b[38;5;241m.\u001b[39mtarget_id, \u001b[38;5;28mself\u001b[39m\u001b[38;5;241m.\u001b[39mname)\n\u001b[0;32m   1325\u001b[0m \u001b[38;5;28;01mfor\u001b[39;00m temp_arg \u001b[38;5;129;01min\u001b[39;00m temp_args:\n\u001b[0;32m   1326\u001b[0m     \u001b[38;5;28;01mif\u001b[39;00m \u001b[38;5;28mhasattr\u001b[39m(temp_arg, \u001b[38;5;124m\"\u001b[39m\u001b[38;5;124m_detach\u001b[39m\u001b[38;5;124m\"\u001b[39m):\n",
      "File \u001b[1;32mc:\\Users\\jyuba\\anaconda3\\Lib\\site-packages\\pyspark\\errors\\exceptions\\captured.py:179\u001b[0m, in \u001b[0;36mcapture_sql_exception.<locals>.deco\u001b[1;34m(*a, **kw)\u001b[0m\n\u001b[0;32m    177\u001b[0m \u001b[38;5;28;01mdef\u001b[39;00m \u001b[38;5;21mdeco\u001b[39m(\u001b[38;5;241m*\u001b[39ma: Any, \u001b[38;5;241m*\u001b[39m\u001b[38;5;241m*\u001b[39mkw: Any) \u001b[38;5;241m-\u001b[39m\u001b[38;5;241m>\u001b[39m Any:\n\u001b[0;32m    178\u001b[0m     \u001b[38;5;28;01mtry\u001b[39;00m:\n\u001b[1;32m--> 179\u001b[0m         \u001b[38;5;28;01mreturn\u001b[39;00m f(\u001b[38;5;241m*\u001b[39ma, \u001b[38;5;241m*\u001b[39m\u001b[38;5;241m*\u001b[39mkw)\n\u001b[0;32m    180\u001b[0m     \u001b[38;5;28;01mexcept\u001b[39;00m Py4JJavaError \u001b[38;5;28;01mas\u001b[39;00m e:\n\u001b[0;32m    181\u001b[0m         converted \u001b[38;5;241m=\u001b[39m convert_exception(e\u001b[38;5;241m.\u001b[39mjava_exception)\n",
      "File \u001b[1;32mc:\\Users\\jyuba\\anaconda3\\Lib\\site-packages\\py4j\\protocol.py:326\u001b[0m, in \u001b[0;36mget_return_value\u001b[1;34m(answer, gateway_client, target_id, name)\u001b[0m\n\u001b[0;32m    324\u001b[0m value \u001b[38;5;241m=\u001b[39m OUTPUT_CONVERTER[\u001b[38;5;28mtype\u001b[39m](answer[\u001b[38;5;241m2\u001b[39m:], gateway_client)\n\u001b[0;32m    325\u001b[0m \u001b[38;5;28;01mif\u001b[39;00m answer[\u001b[38;5;241m1\u001b[39m] \u001b[38;5;241m==\u001b[39m REFERENCE_TYPE:\n\u001b[1;32m--> 326\u001b[0m     \u001b[38;5;28;01mraise\u001b[39;00m Py4JJavaError(\n\u001b[0;32m    327\u001b[0m         \u001b[38;5;124m\"\u001b[39m\u001b[38;5;124mAn error occurred while calling \u001b[39m\u001b[38;5;132;01m{0}\u001b[39;00m\u001b[38;5;132;01m{1}\u001b[39;00m\u001b[38;5;132;01m{2}\u001b[39;00m\u001b[38;5;124m.\u001b[39m\u001b[38;5;130;01m\\n\u001b[39;00m\u001b[38;5;124m\"\u001b[39m\u001b[38;5;241m.\u001b[39m\n\u001b[0;32m    328\u001b[0m         \u001b[38;5;28mformat\u001b[39m(target_id, \u001b[38;5;124m\"\u001b[39m\u001b[38;5;124m.\u001b[39m\u001b[38;5;124m\"\u001b[39m, name), value)\n\u001b[0;32m    329\u001b[0m \u001b[38;5;28;01melse\u001b[39;00m:\n\u001b[0;32m    330\u001b[0m     \u001b[38;5;28;01mraise\u001b[39;00m Py4JError(\n\u001b[0;32m    331\u001b[0m         \u001b[38;5;124m\"\u001b[39m\u001b[38;5;124mAn error occurred while calling \u001b[39m\u001b[38;5;132;01m{0}\u001b[39;00m\u001b[38;5;132;01m{1}\u001b[39;00m\u001b[38;5;132;01m{2}\u001b[39;00m\u001b[38;5;124m. Trace:\u001b[39m\u001b[38;5;130;01m\\n\u001b[39;00m\u001b[38;5;132;01m{3}\u001b[39;00m\u001b[38;5;130;01m\\n\u001b[39;00m\u001b[38;5;124m\"\u001b[39m\u001b[38;5;241m.\u001b[39m\n\u001b[0;32m    332\u001b[0m         \u001b[38;5;28mformat\u001b[39m(target_id, \u001b[38;5;124m\"\u001b[39m\u001b[38;5;124m.\u001b[39m\u001b[38;5;124m\"\u001b[39m, name, value))\n",
      "\u001b[1;31mPy4JJavaError\u001b[0m: An error occurred while calling o527.jdbc.\n: java.lang.IllegalStateException: SparkContext has been shutdown\r\n\tat org.apache.spark.SparkContext.runJob(SparkContext.scala:2390)\r\n\tat org.apache.spark.SparkContext.runJob(SparkContext.scala:2419)\r\n\tat org.apache.spark.SparkContext.runJob(SparkContext.scala:2438)\r\n\tat org.apache.spark.SparkContext.runJob(SparkContext.scala:2463)\r\n\tat org.apache.spark.rdd.RDD.$anonfun$foreachPartition$1(RDD.scala:1039)\r\n\tat org.apache.spark.rdd.RDDOperationScope$.withScope(RDDOperationScope.scala:151)\r\n\tat org.apache.spark.rdd.RDDOperationScope$.withScope(RDDOperationScope.scala:112)\r\n\tat org.apache.spark.rdd.RDD.withScope(RDD.scala:410)\r\n\tat org.apache.spark.rdd.RDD.foreachPartition(RDD.scala:1037)\r\n\tat org.apache.spark.sql.Dataset.$anonfun$foreachPartition$1(Dataset.scala:3514)\r\n\tat scala.runtime.java8.JFunction0$mcV$sp.apply(JFunction0$mcV$sp.java:23)\r\n\tat org.apache.spark.sql.Dataset.$anonfun$withNewRDDExecutionId$1(Dataset.scala:4309)\r\n\tat org.apache.spark.sql.execution.SQLExecution$.$anonfun$withNewExecutionId$6(SQLExecution.scala:125)\r\n\tat org.apache.spark.sql.execution.SQLExecution$.withSQLConfPropagated(SQLExecution.scala:201)\r\n\tat org.apache.spark.sql.execution.SQLExecution$.$anonfun$withNewExecutionId$1(SQLExecution.scala:108)\r\n\tat org.apache.spark.sql.SparkSession.withActive(SparkSession.scala:900)\r\n\tat org.apache.spark.sql.execution.SQLExecution$.withNewExecutionId(SQLExecution.scala:66)\r\n\tat org.apache.spark.sql.Dataset.withNewRDDExecutionId(Dataset.scala:4307)\r\n\tat org.apache.spark.sql.Dataset.foreachPartition(Dataset.scala:3514)\r\n\tat org.apache.spark.sql.execution.datasources.jdbc.JdbcUtils$.saveTable(JdbcUtils.scala:901)\r\n\tat org.apache.spark.sql.execution.datasources.jdbc.JdbcRelationProvider.createRelation(JdbcRelationProvider.scala:65)\r\n\tat org.apache.spark.sql.execution.datasources.SaveIntoDataSourceCommand.run(SaveIntoDataSourceCommand.scala:48)\r\n\tat org.apache.spark.sql.execution.command.ExecutedCommandExec.sideEffectResult$lzycompute(commands.scala:75)\r\n\tat org.apache.spark.sql.execution.command.ExecutedCommandExec.sideEffectResult(commands.scala:73)\r\n\tat org.apache.spark.sql.execution.command.ExecutedCommandExec.executeCollect(commands.scala:84)\r\n\tat org.apache.spark.sql.execution.QueryExecution$$anonfun$eagerlyExecuteCommands$1.$anonfun$applyOrElse$1(QueryExecution.scala:107)\r\n\tat org.apache.spark.sql.execution.SQLExecution$.$anonfun$withNewExecutionId$6(SQLExecution.scala:125)\r\n\tat org.apache.spark.sql.execution.SQLExecution$.withSQLConfPropagated(SQLExecution.scala:201)\r\n\tat org.apache.spark.sql.execution.SQLExecution$.$anonfun$withNewExecutionId$1(SQLExecution.scala:108)\r\n\tat org.apache.spark.sql.SparkSession.withActive(SparkSession.scala:900)\r\n\tat org.apache.spark.sql.execution.SQLExecution$.withNewExecutionId(SQLExecution.scala:66)\r\n\tat org.apache.spark.sql.execution.QueryExecution$$anonfun$eagerlyExecuteCommands$1.applyOrElse(QueryExecution.scala:107)\r\n\tat org.apache.spark.sql.execution.QueryExecution$$anonfun$eagerlyExecuteCommands$1.applyOrElse(QueryExecution.scala:98)\r\n\tat org.apache.spark.sql.catalyst.trees.TreeNode.$anonfun$transformDownWithPruning$1(TreeNode.scala:461)\r\n\tat org.apache.spark.sql.catalyst.trees.CurrentOrigin$.withOrigin(origin.scala:76)\r\n\tat org.apache.spark.sql.catalyst.trees.TreeNode.transformDownWithPruning(TreeNode.scala:461)\r\n\tat org.apache.spark.sql.catalyst.plans.logical.LogicalPlan.org$apache$spark$sql$catalyst$plans$logical$AnalysisHelper$$super$transformDownWithPruning(LogicalPlan.scala:32)\r\n\tat org.apache.spark.sql.catalyst.plans.logical.AnalysisHelper.transformDownWithPruning(AnalysisHelper.scala:267)\r\n\tat org.apache.spark.sql.catalyst.plans.logical.AnalysisHelper.transformDownWithPruning$(AnalysisHelper.scala:263)\r\n\tat org.apache.spark.sql.catalyst.plans.logical.LogicalPlan.transformDownWithPruning(LogicalPlan.scala:32)\r\n\tat org.apache.spark.sql.catalyst.plans.logical.LogicalPlan.transformDownWithPruning(LogicalPlan.scala:32)\r\n\tat org.apache.spark.sql.catalyst.trees.TreeNode.transformDown(TreeNode.scala:437)\r\n\tat org.apache.spark.sql.execution.QueryExecution.eagerlyExecuteCommands(QueryExecution.scala:98)\r\n\tat org.apache.spark.sql.execution.QueryExecution.commandExecuted$lzycompute(QueryExecution.scala:85)\r\n\tat org.apache.spark.sql.execution.QueryExecution.commandExecuted(QueryExecution.scala:83)\r\n\tat org.apache.spark.sql.execution.QueryExecution.assertCommandExecuted(QueryExecution.scala:142)\r\n\tat org.apache.spark.sql.DataFrameWriter.runCommand(DataFrameWriter.scala:859)\r\n\tat org.apache.spark.sql.DataFrameWriter.saveToV1Source(DataFrameWriter.scala:388)\r\n\tat org.apache.spark.sql.DataFrameWriter.saveInternal(DataFrameWriter.scala:361)\r\n\tat org.apache.spark.sql.DataFrameWriter.save(DataFrameWriter.scala:248)\r\n\tat org.apache.spark.sql.DataFrameWriter.jdbc(DataFrameWriter.scala:756)\r\n\tat java.base/jdk.internal.reflect.DirectMethodHandleAccessor.invoke(DirectMethodHandleAccessor.java:103)\r\n\tat java.base/java.lang.reflect.Method.invoke(Method.java:580)\r\n\tat py4j.reflection.MethodInvoker.invoke(MethodInvoker.java:244)\r\n\tat py4j.reflection.ReflectionEngine.invoke(ReflectionEngine.java:374)\r\n\tat py4j.Gateway.invoke(Gateway.java:282)\r\n\tat py4j.commands.AbstractCommand.invokeMethod(AbstractCommand.java:132)\r\n\tat py4j.commands.CallCommand.execute(CallCommand.java:79)\r\n\tat py4j.ClientServerConnection.waitForCommands(ClientServerConnection.java:182)\r\n\tat py4j.ClientServerConnection.run(ClientServerConnection.java:106)\r\n\tat java.base/java.lang.Thread.run(Thread.java:1570)\r\n"
     ]
    }
   ],
   "source": [
    "# Write DataFrame to PostgreSQL table\n",
    "emails_df.write.jdbc(url=jdbc_url, table=\"emails_cleaned\", mode=\"overwrite\", properties=properties)"
   ]
  },
  {
   "cell_type": "code",
   "execution_count": null,
   "metadata": {},
   "outputs": [],
   "source": [
    "from pyspark.sql import SparkSession\n",
    "from pyspark.sql.types import StructType, StringType, TimestampType\n",
    "from pyspark.sql.functions import col, explode, regexp_replace, trim, to_date, hour, dayofweek, expr\n",
    "from pyspark.ml.feature import Tokenizer\n",
    "\n",
    "# Initialize Spark session\n",
    "spark = SparkSession.builder \\\n",
    "    .appName(\"EmailDataStreaming\") \\\n",
    "    .getOrCreate()\n",
    "\n",
    "# PostgreSQL connection properties\n",
    "jdbc_url = \"jdbc:postgresql://localhost:5432/ainbox\"  # Update with your actual JDBC URL\n",
    "table = \"emails\"  # Update with your actual table name\n",
    "properties = {\n",
    "    \"user\": \"postgres\",\n",
    "    \"password\": \"Habang3233\",\n",
    "    \"driver\": \"org.postgresql.Driver\"\n",
    "}\n",
    "\n",
    "# Define schema for emails table\n",
    "schema = StructType() \\\n",
    "    .add(\"id\", StringType()) \\\n",
    "    .add(\"email_id\", StringType()) \\\n",
    "    .add(\"subject\", StringType()) \\\n",
    "    .add(\"sender\", StringType()) \\\n",
    "    .add(\"recipients\", StringType()) \\\n",
    "    .add(\"cc\", StringType()) \\\n",
    "    .add(\"bcc\", StringType()) \\\n",
    "    .add(\"date\", TimestampType()) \\\n",
    "    .add(\"body_plain\", StringType()) \\\n",
    "    .add(\"links\", StringType())\n",
    "\n",
    "# Read data from PostgreSQL table as a streaming DataFrame and apply data processing\n",
    "streaming_df = spark.readStream \\\n",
    "    .format(\"jdbc\") \\\n",
    "    .option(\"url\", jdbc_url) \\\n",
    "    .option(\"dbtable\", table) \\\n",
    "    .option(\"user\", properties[\"user\"]) \\\n",
    "    .option(\"password\", properties[\"password\"]) \\\n",
    "    .option(\"driver\", properties[\"driver\"]) \\\n",
    "    .schema(schema) \\\n",
    "    .load() \\\n",
    "    .withColumn(\"subject_clean\", trim(regexp_replace(col(\"subject\"), r\"\\W\", \" \"))) \\\n",
    "    .withColumn(\"sender_domain\", trim(regexp_replace(col(\"sender\"), r\".*@\",\"\"))) \\\n",
    "    .withColumn(\"recipient_domain\", trim(regexp_replace(col(\"recipients\"), r\".*@\",\"\"))) \\\n",
    "    .withColumn(\"cc_recipient_domain\", trim(regexp_replace(col(\"cc\"), r\".*@\",\"\"))) \\\n",
    "    .withColumn(\"bcc_recipient_domain\", trim(regexp_replace(col(\"bcc\"), r\".*@\",\"\"))) \\\n",
    "    .withColumn(\"date\", to_date(col(\"date\"))) \\\n",
    "    .withColumn(\"hour\", hour(col(\"date\"))) \\\n",
    "    .withColumn(\"day_of_week\", dayofweek(col(\"date\"))) \\\n",
    "    .withColumn(\"body_clean\", trim(regexp_replace(col(\"body_plain\"), r\"<[^>]+>\", \"\"))) \\\n",
    "    .withColumn(\"link_domain\", explode(expr(\"filter(links, x -> regexp_extract(x, 'https?://([a-zA-Z0-9.-]+)', 1) is not null)\")))\n",
    "\n",
    "# Define data processing and insert back into the same table\n",
    "query = streaming_df.writeStream \\\n",
    "    .foreachBatch(lambda batch_df, batch_id: batch_df.write.jdbc(url=jdbc_url, table=\"emails\", mode=\"append\", properties=properties)) \\\n",
    "    .outputMode(\"append\") \\\n",
    "    .start()\n",
    "\n",
    "# Wait for the termination of the query\n",
    "query.awaitTermination()"
   ]
  }
 ],
 "metadata": {
  "kernelspec": {
   "display_name": "base",
   "language": "python",
   "name": "python3"
  },
  "language_info": {
   "codemirror_mode": {
    "name": "ipython",
    "version": 3
   },
   "file_extension": ".py",
   "mimetype": "text/x-python",
   "name": "python",
   "nbconvert_exporter": "python",
   "pygments_lexer": "ipython3",
   "version": "3.11.5"
  }
 },
 "nbformat": 4,
 "nbformat_minor": 2
}
